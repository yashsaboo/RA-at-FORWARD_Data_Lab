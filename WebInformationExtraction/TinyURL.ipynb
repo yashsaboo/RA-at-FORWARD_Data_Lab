{
 "cells": [
  {
   "cell_type": "code",
   "execution_count": 1,
   "metadata": {},
   "outputs": [],
   "source": [
    "import contextlib \n",
    "  \n",
    "try: \n",
    "    from urllib.parse import urlencode           \n",
    "except ImportError: \n",
    "    from urllib import urlencode \n",
    "try: \n",
    "    from urllib.request import urlopen \n",
    "except ImportError: \n",
    "    from urllib2 import urlopen \n",
    "\n",
    "import sys "
   ]
  },
  {
   "cell_type": "code",
   "execution_count": 2,
   "metadata": {},
   "outputs": [],
   "source": [
    "#Taken from https://www.geeksforgeeks.org/python-url-shortener-using-tinyurl-api/\n",
    "#Returns the url subtracting the domain name with www and com stuff\n",
    "#So, http://tinyurl.com/y5bffkh2 ---becomes---> y5bffkh2\n",
    "def getTinyURL(URL): \n",
    "    request_url = ('http://tinyurl.com/api-create.php?' + urlencode({'url':URL}))     \n",
    "    with contextlib.closing(urlopen(request_url)) as response:                       \n",
    "        return response.read().decode('utf-8 ')[19:]"
   ]
  },
  {
   "cell_type": "code",
   "execution_count": 4,
   "metadata": {},
   "outputs": [
    {
     "data": {
      "text/plain": [
       "'y68fpnhn'"
      ]
     },
     "execution_count": 4,
     "metadata": {},
     "output_type": "execute_result"
    }
   ],
   "source": [
    "# getTinyURL(\"URL\")"
   ]
  },
  {
   "cell_type": "code",
   "execution_count": null,
   "metadata": {},
   "outputs": [],
   "source": []
  }
 ],
 "metadata": {
  "kernelspec": {
   "display_name": "Python 3",
   "language": "python",
   "name": "python3"
  },
  "language_info": {
   "codemirror_mode": {
    "name": "ipython",
    "version": 3
   },
   "file_extension": ".py",
   "mimetype": "text/x-python",
   "name": "python",
   "nbconvert_exporter": "python",
   "pygments_lexer": "ipython3",
   "version": "3.7.3"
  }
 },
 "nbformat": 4,
 "nbformat_minor": 2
}
