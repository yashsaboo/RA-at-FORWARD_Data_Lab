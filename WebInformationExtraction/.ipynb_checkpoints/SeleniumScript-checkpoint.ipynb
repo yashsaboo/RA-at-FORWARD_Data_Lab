{
 "cells": [
  {
   "cell_type": "code",
   "execution_count": 2,
   "metadata": {},
   "outputs": [],
   "source": [
    "#Import All Dependencies\n",
    "# import cv2, os, bz2, json, csv, difflib, requests, socket, whois, urllib.request, urllib.parse, urllib.error, re, OpenSSL, ssl\n",
    "import numpy as np\n",
    "from datetime import datetime\n",
    "from urllib.parse import urlparse\n",
    "from urllib.request import Request, urlopen\n",
    "# from selenium import webdriver\n",
    "from matplotlib import pyplot as plt\n",
    "from bs4 import BeautifulSoup\n",
    "# from timeout import timeout\n",
    "import requests\n",
    "import numpy as np\n",
    "import urllib\n",
    "import cv2\n",
    "import re\n",
    "from selenium import webdriver\n",
    "from selenium.webdriver.common.desired_capabilities import DesiredCapabilities\n",
    "from selenium.webdriver.firefox.options import Options\n",
    "from PIL import Image\n",
    "from io import BytesIO\n",
    "import time\n",
    "import os\n",
    "import os.path\n",
    "from os import path\n",
    "import io\n",
    "from difflib import SequenceMatcher\n",
    "import json"
   ]
  },
  {
   "cell_type": "code",
   "execution_count": 3,
   "metadata": {},
   "outputs": [],
   "source": [
    "fireFoxBinaryPath = r'C:\\Program Files (x86)\\Mozilla Firefox\\firefox.exe'\n",
    "geckoDriverPath = \"C:/Users/Yash/Documents/geckodriver.exe\"\n",
    "\n",
    "googleChomreDriverPath = r\"C:\\Users\\Yash\\Documents\\chromedriver.exe\"\n",
    "\n",
    "windowSizeXAxis = 1024\n",
    "windowSizeYAxis = 768"
   ]
  },
  {
   "cell_type": "code",
   "execution_count": 4,
   "metadata": {},
   "outputs": [],
   "source": [
    "# Uses Firefox to launch Selenium Headlessly: One needs to have:\n",
    "# firefox binary path(located in Program Files folder(Windows)) and \n",
    "# geckoDriver, which acts as an intermediate between selenium and firefox, and can download it from: https://github.com/mozilla/geckodriver/releases\n",
    "def getSeleniumDriverForFirefox(fireFoxBinaryPath, geckoDriverPath, windowSizeXAxis, windowSizeYAxis):\n",
    "    options = Options()\n",
    "    options.set_headless(headless=True)\n",
    "    options.binary = binary\n",
    "    options.add_argument('--ignore-certificate-errors')\n",
    "    \n",
    "    cap = DesiredCapabilities().FIREFOX\n",
    "    cap[\"marionette\"] = True #optional\n",
    "    \n",
    "    driver = webdriver.Firefox(firefox_options=options, capabilities=cap, executable_path=geckodriver)\n",
    "    driver.set_window_size(windowSizeXAxis, windowSizeYAxis) # set the window size that you need \n",
    "    return driver\n",
    "\n",
    "def getSeleniumDriverForChrome(googleChomreDriverPath, headlessOrNot):\n",
    "    options = webdriver.ChromeOptions()\n",
    "    options.headless = headlessOrNot\n",
    "\n",
    "    driver = webdriver.Chrome(options=options, executable_path=googleChomreDriverPath)\n",
    "    return driver\n",
    "\n",
    "# Saves the screenshot with the last 20 characters of the URL as the file name\n",
    "# Firefox doesn't properly returns the whole page's screenshot, so use Chrome\n",
    "def takeScreenshotWithFirefox(URL):\n",
    "    driver2 = getSeleniumDriverForChrome(googleChomreDriverPath)\n",
    "    driver2.get(URL)\n",
    "    driver2.save_screenshot(\"screenshots/\" + getTinyURL(URL)+\".png\")\n",
    "    driver2.quit()\n",
    "    \n",
    "def takeScreenshotWithChrome(URL, driver):\n",
    "    driver.get(URL)\n",
    "\n",
    "    S = lambda X: driver.execute_script('return document.body.parentNode.scroll'+X)\n",
    "    driver.set_window_size(S('Width'),S('Height')) # May need manual adjustment\n",
    "    driver.find_element_by_tag_name('body').screenshot(\"screenshots/\" + getTinyURL(URL)+\".png\")"
   ]
  },
  {
   "cell_type": "code",
   "execution_count": 8,
   "metadata": {},
   "outputs": [],
   "source": [
    "# URL = \"https://www.ebay.com/itm/Apple-iPhone-XR-64GB-Factory-Unlocked-Smartphone-4G-LTE-iOS-Smartphone/143200193783?var=442132772989&_trkparms=%26rpp_cid%3D5da6205bfe6ec928a2999518%26rpp_icid%3D5da6205bfe6ec928a2999517&_trkparms=pageci%3Afd7f6834-f568-11e9-86d0-74dbd180c416%7Cparentrq%3Af7934d2616d0a9cb8b4f0daffffc86e1%7Ciid%3A1&frcectupt=true\""
   ]
  },
  {
   "cell_type": "code",
   "execution_count": 7,
   "metadata": {},
   "outputs": [],
   "source": [
    "# #Get Selenium Object for that XPath\n",
    "# driver2 = getSeleniumDriverForChrome(googleChomreDriverPath, False)\n",
    "# driver2.get(URL)\n",
    "# # driver2.implicitly_wait(10)\n",
    "# driver2.maximize_window()"
   ]
  },
  {
   "cell_type": "code",
   "execution_count": null,
   "metadata": {},
   "outputs": [],
   "source": []
  }
 ],
 "metadata": {
  "kernelspec": {
   "display_name": "Python 3",
   "language": "python",
   "name": "python3"
  },
  "language_info": {
   "codemirror_mode": {
    "name": "ipython",
    "version": 3
   },
   "file_extension": ".py",
   "mimetype": "text/x-python",
   "name": "python",
   "nbconvert_exporter": "python",
   "pygments_lexer": "ipython3",
   "version": "3.7.3"
  }
 },
 "nbformat": 4,
 "nbformat_minor": 2
}
