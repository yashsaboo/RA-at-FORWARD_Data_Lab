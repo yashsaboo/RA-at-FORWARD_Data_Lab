{
 "cells": [
  {
   "cell_type": "markdown",
   "metadata": {},
   "source": [
    "## Libraries"
   ]
  },
  {
   "cell_type": "code",
   "execution_count": 1,
   "metadata": {},
   "outputs": [],
   "source": [
    "#Import All Dependencies\n",
    "# import cv2, os, bz2, json, csv, difflib, requests, socket, whois, urllib.request, urllib.parse, urllib.error, re, OpenSSL, ssl\n",
    "import numpy as np\n",
    "from datetime import datetime\n",
    "from urllib.parse import urlparse\n",
    "from urllib.request import Request, urlopen\n",
    "# from selenium import webdriver\n",
    "from matplotlib import pyplot as plt\n",
    "from bs4 import BeautifulSoup\n",
    "# from timeout import timeout\n",
    "import requests\n",
    "import numpy as np\n",
    "import urllib\n",
    "import cv2\n",
    "import re\n",
    "from selenium import webdriver\n",
    "from selenium.webdriver.common.desired_capabilities import DesiredCapabilities\n",
    "from selenium.webdriver.firefox.options import Options\n",
    "from PIL import Image\n",
    "from io import BytesIO\n",
    "import time\n",
    "import os\n",
    "import os.path\n",
    "from os import path\n",
    "import io\n",
    "from difflib import SequenceMatcher\n",
    "import json"
   ]
  },
  {
   "cell_type": "code",
   "execution_count": 2,
   "metadata": {},
   "outputs": [],
   "source": [
    "import contextlib \n",
    "  \n",
    "try: \n",
    "    from urllib.parse import urlencode           \n",
    "except ImportError: \n",
    "    from urllib import urlencode \n",
    "try: \n",
    "    from urllib.request import urlopen \n",
    "except ImportError: \n",
    "    from urllib2 import urlopen \n",
    "\n",
    "import sys "
   ]
  },
  {
   "cell_type": "markdown",
   "metadata": {},
   "source": [
    "### TinyURL"
   ]
  },
  {
   "cell_type": "code",
   "execution_count": 3,
   "metadata": {},
   "outputs": [],
   "source": [
    "#Taken from https://www.geeksforgeeks.org/python-url-shortener-using-tinyurl-api/\n",
    "#Returns the url subtracting the domain name with www and com stuff\n",
    "#So, http://tinyurl.com/y5bffkh2 ---becomes---> y5bffkh2\n",
    "def getTinyURL(URL): \n",
    "    request_url = ('http://tinyurl.com/api-create.php?' + urlencode({'url':URL}))     \n",
    "    with contextlib.closing(urlopen(request_url)) as response:                       \n",
    "        return response.read().decode('utf-8 ')[19:]"
   ]
  },
  {
   "cell_type": "code",
   "execution_count": 4,
   "metadata": {},
   "outputs": [],
   "source": [
    "#Returns Beautiful Soup object\n",
    "def getHTML(URL):\n",
    "    try:\n",
    "        hdr = {'User-Agent': 'Mozilla/5.0 (Windows NT 10.0; Win64; x64) AppleWebKit/537.36 (KHTML, like Gecko) Chrome/74.0.3729.157 Safari/537.36'} #Make the user agent verified, that is Mozilla\n",
    "#         req = Request(URL,headers=hdr)\n",
    "        req = requests.get(URL, headers=hdr)\n",
    "        page = req.text #Get URL HTML contents\n",
    "        soup = BeautifulSoup(page, 'html.parser') #Convert to BeutifulSoup\n",
    "        print(\"Built Soup\")\n",
    "        #prettyText = str(soup.prettify()) #Convert the HTML in its form\n",
    "        return soup\n",
    "    except Exception as e:\n",
    "# #         if e.__class__.__name__ == \"TimeoutError\": raise TimeoutError(\"\")\n",
    "        return None"
   ]
  },
  {
   "cell_type": "markdown",
   "metadata": {},
   "source": [
    "### XPath"
   ]
  },
  {
   "cell_type": "code",
   "execution_count": 5,
   "metadata": {},
   "outputs": [],
   "source": [
    "from UnitTestingOnXPath import getMyStackXPath"
   ]
  },
  {
   "cell_type": "markdown",
   "metadata": {},
   "source": [
    "### Similarity"
   ]
  },
  {
   "cell_type": "code",
   "execution_count": 19,
   "metadata": {},
   "outputs": [],
   "source": [
    "highlySimilarValue = 0.40 #Denotes high chances. If occured, remove the less elements\n",
    "moderatelySimilarValue = 0.15 #Denotes moderate chances. If occured, remove the less elements\n",
    "bareMinimumSimilarValue = 0.05 #Denotes elements which have barely any similarity, so discard the elements below them"
   ]
  },
  {
   "cell_type": "code",
   "execution_count": 20,
   "metadata": {},
   "outputs": [],
   "source": [
    "def similar(a, b):\n",
    "    a = a.strip()\n",
    "    b = b.strip()\n",
    "    return SequenceMatcher(None, a, b).ratio()"
   ]
  },
  {
   "cell_type": "markdown",
   "metadata": {},
   "source": [
    "### Element Extractor"
   ]
  },
  {
   "cell_type": "markdown",
   "metadata": {},
   "source": [
    "1. Try different varaitions of price text.\n",
    "2. Check if the size of the element is more than 1x1 //Walmart Page cause problem using hidden element\n",
    "3. "
   ]
  },
  {
   "cell_type": "code",
   "execution_count": 22,
   "metadata": {},
   "outputs": [],
   "source": [
    "#Returns the elements for sepcified regex which will match the tag content/string\n",
    "def getTheElementListForSpecificRegexContent(regexContent, soup):\n",
    "    returnList= []\n",
    "    try:\n",
    "#         print(\"getTheElementListForSpecificRegexContent() soup(text=re.compile(regexContent)):\",soup(text=re.compile(regexContent)))\n",
    "        for counter in soup(text=re.compile(regexContent)):\n",
    "#             print(\"getTheElementListForSpecificRegexContent() counter.parent:\",counter.parent)\n",
    "            returnList.append(counter.parent)\n",
    "        return returnList\n",
    "    except Exception as e:\n",
    "        print(e)\n",
    "        return returnList\n",
    "\n",
    "#Find scores for set of element\n",
    "def defineScoreForElementList(elementList, comparatorValue, highProbailityTags, elementType):\n",
    "    scoreList = []\n",
    "    for element in elementList:\n",
    "        similarityCounterValue = similar(comparatorValue, element.string) #Find similarity\n",
    "        \n",
    "        #Add weighted factor if the tag is found\n",
    "        for tag in highProbailityTags:\n",
    "            if tag in element.name:\n",
    "                similarityCounterValue = similarityCounterValue + weightFactorForTheTag\n",
    "                \n",
    "        #Add weighted factor if the elementType is found\n",
    "        if elementType in json.dumps(element.attrs):\n",
    "            similarityCounterValue = similarityCounterValue + weightFactorForTheTag\n",
    "            \n",
    "        scoreList.append(similarityCounterValue)\n",
    "        \n",
    "    print(\"defineScoreForElementList() len(scoreList):\", len(scoreList))\n",
    "    print(\"defineScoreForElementList() len(elementList):\", len(elementList))\n",
    "    return scoreList\n",
    "\n",
    "\"\"\"\n",
    "    Find top elements which maps to the comparator: \n",
    "        typeOfComparators is set of values which a element's string/content should contain\n",
    "        highProbailityTags are tags which will likely have those typeOfComparators values so give them more weight\n",
    "        elementType is useful because the attribute of the tag usually contain such value\n",
    "\"\"\"\n",
    "def brainOfElementExtractor(typeOfComparators, soup, highProbailityTags, elementType):\n",
    "    \n",
    "    elementList = []   \n",
    "    \n",
    "    for comparatorValue in typeOfComparators:\n",
    "        print(\"brainOfElementExtractor() comparatorValue\",comparatorValue)\n",
    "        elementList = elementList + getTheElementListForSpecificRegexContent(comparatorValue, soup)\n",
    "        print(\"brainOfElementExtractor() len(elementList):\", len(elementList))\n",
    "    \n",
    "#     print(elementList) #For Debugging\n",
    "#     print(defineScoreForElementList(elementList, comparatorValue, highProbailityTags, elementType)) #For Debugging\n",
    "    \n",
    "    #Remove Duplicate Elements from list\n",
    "    elementListCurated = []\n",
    "    for i in elementList: \n",
    "        if i not in elementListCurated: \n",
    "            elementListCurated.append(i)\n",
    "    \n",
    "    scoreList = defineScoreForElementList(elementListCurated, comparatorValue, highProbailityTags, elementType)\n",
    "    print(\"brainOfElementExtractor() len(scoreList):\", len(scoreList))\n",
    "    \n",
    "    #Check if list is empty\n",
    "    if len(scoreList) == 0:\n",
    "        return None\n",
    "    \n",
    "    returnListOfElements = []\n",
    "    returnListOfScores = []\n",
    "    if max(scoreList)>highlySimilarValue: #Check if even one value has 'High' similarity score. If yes, then only send those elements\n",
    "        for i in range(0, len(scoreList)):\n",
    "            if scoreList[i]>highlySimilarValue:\n",
    "                returnListOfElements.append(elementListCurated[i])\n",
    "                returnListOfScores.append(scoreList[i])\n",
    "                \n",
    "    elif max(scoreList)>moderatleySimilarValue: #Check if it passes 'Moderately'\n",
    "        for i in range(0, len(scoreList)):\n",
    "            if scoreList[i]>moderatelySimilarValue:\n",
    "                returnListOfElements.append(elementListCurated[i])\n",
    "                returnListOfScores.append(scoreList[i])\n",
    "    else:\n",
    "        for i in range(0, len(scoreList)): #Check if it passes bare minimum\n",
    "            if scoreList[i]>bareMinimumSimilarValue:\n",
    "                returnListOfElements.append(elementListCurated[i])\n",
    "                returnListOfScores.append(scoreList[i])\n",
    "    \n",
    "    return returnListOfElements, returnListOfScores"
   ]
  },
  {
   "cell_type": "markdown",
   "metadata": {},
   "source": [
    "##### Price"
   ]
  },
  {
   "cell_type": "code",
   "execution_count": 21,
   "metadata": {},
   "outputs": [],
   "source": [
    "# Price is supposed to be defined in the following tags, so give higher weight\n",
    "priceHighProbailityTags = [\"h\", \"span\"]\n",
    "weightFactorForTheTag = 0.3"
   ]
  },
  {
   "cell_type": "code",
   "execution_count": 23,
   "metadata": {},
   "outputs": [],
   "source": [
    "#Try different varaitions of Price Text\n",
    "#Order: \\$379.00, 379.00, \\$379, 379\n",
    "def findPriceElementTagList(gShopPrice, soup): #gShopPrice = $379.00\n",
    "    \n",
    "    typeOfPrices = []\n",
    "    \n",
    "    gShopPrice = gShopPrice.replace(\"now\",\"\").strip() #GShop sometimes gives prices with now suffix like \"$0.00 now\"\n",
    "    \n",
    "    if \"$\" in gShopPrice:\n",
    "        typeOfPrices.append(gShopPrice.replace(\"$\", \"\\$\"))  #gShopPriceUpdated = \\$379.00; Required because $ is reserved keyword for regex\n",
    "        \n",
    "    typeOfPrices.append(gShopPrice.replace(\"$\",\"\")) #gShopPriceUpdated = 379.00\n",
    "    \n",
    "    typeOfPrices.append(gShopPrice.replace(\"$\", \"\\$\").split(\".\")[0]) #gShopPriceUpdated = \\$379\n",
    "        \n",
    "    typeOfPrices.append(gShopPrice.replace(\"$\",\"\").split(\".\")[0]) #gShopPriceUpdated = 379\n",
    "    \n",
    "    return typeOfPrices"
   ]
  },
  {
   "cell_type": "markdown",
   "metadata": {},
   "source": [
    "##### Heading"
   ]
  },
  {
   "cell_type": "code",
   "execution_count": 24,
   "metadata": {},
   "outputs": [],
   "source": [
    "# Heading is supposed to be defined in the following tags, so give higher weight\n",
    "headingHighProbailityTags = [\"h\", \"span\"]\n",
    "weightFactorForTheTag = 0.3"
   ]
  },
  {
   "cell_type": "code",
   "execution_count": null,
   "metadata": {},
   "outputs": [],
   "source": [
    "#Try different varaitions of Heading Text\n",
    "def findHeadingElementTagList(gShopHeading, soup): #gShopPrice = $379.00\n",
    "    \n",
    "    typeOfHeadings = []\n",
    "    \n",
    "    gShopHeading = gShopHeading.strip()\n",
    "    noOfSpaces = gShopHeading.count(' ')\n",
    "    \n",
    "    for i in range(0,noOfSpaces):\n",
    "        \n",
    "    \n",
    "    \n",
    "    return typeOfPrices"
   ]
  },
  {
   "cell_type": "markdown",
   "metadata": {},
   "source": [
    "### Testing"
   ]
  },
  {
   "cell_type": "code",
   "execution_count": 25,
   "metadata": {},
   "outputs": [],
   "source": [
    "URL = \"https://www.walmart.com/ip/Farberware-3-2-Quart-Digital-Oil-Less-Fryer-White/264698854?athcpid=264698854&athpgid=athenaHomepage&athcgid=null&athznid=BestInDeals&athieid=v1&athstid=CS020&athguid=466001f5-46cfa622-5eb821569a18a716&athancid=null&athena=true\""
   ]
  },
  {
   "cell_type": "code",
   "execution_count": 26,
   "metadata": {},
   "outputs": [
    {
     "name": "stdout",
     "output_type": "stream",
     "text": [
      "Built Soup\n"
     ]
    }
   ],
   "source": [
    "soup = getHTML(URL)"
   ]
  },
  {
   "cell_type": "markdown",
   "metadata": {},
   "source": [
    "##### Price"
   ]
  },
  {
   "cell_type": "code",
   "execution_count": 27,
   "metadata": {},
   "outputs": [],
   "source": [
    "gShopPrice = \"$39.00\""
   ]
  },
  {
   "cell_type": "code",
   "execution_count": 28,
   "metadata": {
    "scrolled": true
   },
   "outputs": [
    {
     "name": "stdout",
     "output_type": "stream",
     "text": [
      "brainOfElementExtractor() comparatorValue \\$39.00\n",
      "brainOfElementExtractor() len(elementList): 2\n",
      "brainOfElementExtractor() comparatorValue 39.00\n",
      "brainOfElementExtractor() len(elementList): 4\n",
      "brainOfElementExtractor() comparatorValue \\$39\n",
      "brainOfElementExtractor() len(elementList): 6\n",
      "brainOfElementExtractor() comparatorValue 39\n",
      "brainOfElementExtractor() len(elementList): 14\n",
      "defineScoreForElementList() len(scoreList): 7\n",
      "defineScoreForElementList() len(elementList): 7\n",
      "brainOfElementExtractor() len(scoreList): 7\n"
     ]
    },
    {
     "data": {
      "text/plain": [
       "([<span class=\"visuallyhidden\">$39.00</span>,\n",
       "  <span class=\"price-characteristic\" content=\"39.00\" itemprop=\"price\">39</span>,\n",
       "  <span class=\"price-characteristic\">39</span>],\n",
       " [0.8, 1.6, 1.6])"
      ]
     },
     "execution_count": 28,
     "metadata": {},
     "output_type": "execute_result"
    }
   ],
   "source": [
    "typeOfPrices = findPriceElementTagList(gShopPrice, soup)\n",
    "brainOfElementExtractor(typeOfPrices, soup, priceHighProbailityTags, \"price\")"
   ]
  },
  {
   "cell_type": "code",
   "execution_count": null,
   "metadata": {},
   "outputs": [],
   "source": []
  },
  {
   "cell_type": "markdown",
   "metadata": {},
   "source": [
    "##### Heading"
   ]
  },
  {
   "cell_type": "code",
   "execution_count": 29,
   "metadata": {},
   "outputs": [],
   "source": [
    "gShopHeading = \"White\""
   ]
  },
  {
   "cell_type": "code",
   "execution_count": 30,
   "metadata": {},
   "outputs": [
    {
     "name": "stdout",
     "output_type": "stream",
     "text": [
      "brainOfElementExtractor() comparatorValue White\n",
      "brainOfElementExtractor() len(elementList): 6\n",
      "defineScoreForElementList() len(scoreList): 6\n",
      "defineScoreForElementList() len(elementList): 6\n",
      "brainOfElementExtractor() len(scoreList): 6\n"
     ]
    },
    {
     "data": {
      "text/plain": [
       "([<h1 class=\"prod-ProductTitle font-normal\" content=\"Farberware 3.2-Quart Digital Oil-Less Fryer, White\" itemprop=\"name\">Farberware 3.2-Quart Digital Oil-Less Fryer, White</h1>],\n",
       " [0.4818181818181818])"
      ]
     },
     "execution_count": 30,
     "metadata": {},
     "output_type": "execute_result"
    }
   ],
   "source": [
    "typeOfHeadings = [gShopHeading]\n",
    "brainOfElementExtractor(typeOfHeadings, soup, headingHighProbailityTags, \"heading\")"
   ]
  },
  {
   "cell_type": "code",
   "execution_count": null,
   "metadata": {},
   "outputs": [],
   "source": []
  },
  {
   "cell_type": "code",
   "execution_count": null,
   "metadata": {},
   "outputs": [],
   "source": []
  },
  {
   "cell_type": "code",
   "execution_count": null,
   "metadata": {},
   "outputs": [],
   "source": []
  },
  {
   "cell_type": "code",
   "execution_count": null,
   "metadata": {},
   "outputs": [],
   "source": []
  },
  {
   "cell_type": "code",
   "execution_count": null,
   "metadata": {},
   "outputs": [],
   "source": []
  },
  {
   "cell_type": "code",
   "execution_count": null,
   "metadata": {},
   "outputs": [],
   "source": []
  },
  {
   "cell_type": "code",
   "execution_count": null,
   "metadata": {},
   "outputs": [],
   "source": []
  },
  {
   "cell_type": "code",
   "execution_count": 74,
   "metadata": {},
   "outputs": [],
   "source": [
    "def getTheTagElementListForPrice(gShopPriceUpdated, soup):\n",
    "    \n",
    "    returnPriceElementTag = None\n",
    "    \n",
    "    try:\n",
    "        dummyVar = soup(text=re.compile(gShopPriceUpdated))\n",
    "#         print(dummyVar)\n",
    "        for elem in dummyVar:\n",
    "            \n",
    "            #find similarity\n",
    "#             if similar(gShopPrice, headingTag.string)\n",
    "\n",
    "#             print(\"elem: \",elem)\n",
    "#             print(\"elem.parent: \",elem.parent)\n",
    "#             print(\"elem.parent.name: \",elem.parent.name)\n",
    "            if returnPriceElementTag == None: #The first element is the return value unless we encounter a heading tag\n",
    "                returnPriceElementTag = elem.parent\n",
    "            if \"h\" in elem.parent.name: #Found the heading tag, so return this tag and break the loop\n",
    "                returnPriceElementTag = elem.parent\n",
    "                return returnPriceElementTag\n",
    "            if \"span\" in elem.parent.name: #Found the span tag, so return this tag and break the loop\n",
    "                print(\"elem: \",elem)\n",
    "                print(\"elem.parent: \",elem.parent)\n",
    "                print(\"elem.parent.name: \",elem.parent.name)\n",
    "                print(str(elem.parent))\n",
    "                print(\"\" + json.dumps(elem.parent.attrs))\n",
    "                returnPriceElementTag = elem.parent\n",
    "                return returnPriceElementTag\n",
    "    except Exception as e:\n",
    "        print(\"Error in getTheTagElementForPrice(gShopPriceUpdated, soup)\")\n",
    "    return returnPriceElementTag\n",
    "\n",
    "#Try different varaitions of Price Text\n",
    "#Order: \\$379.00, 379.00, \\$379, 379\n",
    "def findPriceElementTag(gShopPrice, soup): #gShopPrice = $379.00\n",
    "    \n",
    "    gShopPrice = gShopPrice.replace(\"now\",\"\").strip() #GShop soemtimes gives prices with now suffix like \"$0.00 now\"\n",
    "    print(\"Hi\",gShopPrice)\n",
    "    \n",
    "    if \"$\" in gShopPrice:\n",
    "        gShopPriceUpdated = gShopPrice.replace(\"$\", \"\\$\") #gShopPriceUpdated = \\$379.00; Required because $ is reserved keyword for regex\n",
    "        print(gShopPriceUpdated)\n",
    "        returnPriceElementTag = getTheTagElementListForPrice(gShopPriceUpdated, soup)\n",
    "        if returnPriceElementTag != None and len(str(returnPriceElementTag))<400:\n",
    "            return returnPriceElementTag\n",
    "    \n",
    "    gShopPriceUpdated = gShopPrice.replace(\"$\",\"\") #gShopPriceUpdated = 379.00\n",
    "    print(gShopPriceUpdated)\n",
    "    returnPriceElementTag = getTheTagElementListForPrice(gShopPriceUpdated, soup)\n",
    "    if returnPriceElementTag != None and len(str(returnPriceElementTag))<400:\n",
    "        return returnPriceElementTag\n",
    "        \n",
    "    gShopPriceUpdated = gShopPrice.replace(\"$\", \"\\$\").split(\".\")[0] #gShopPriceUpdated = \\$379\n",
    "    print(gShopPriceUpdated)\n",
    "    returnPriceElementTag = getTheTagElementListForPrice(gShopPriceUpdated, soup)\n",
    "    if returnPriceElementTag != None and len(str(returnPriceElementTag))<400:\n",
    "        return returnPriceElementTag\n",
    "        \n",
    "    gShopPriceUpdated = gShopPrice.replace(\"$\",\"\").split(\".\")[0] #gShopPriceUpdated = 379\n",
    "    print(gShopPriceUpdated)\n",
    "    returnPriceElementTag = getTheTagElementListForPrice(gShopPriceUpdated, soup)\n",
    "    if returnPriceElementTag != None and len(str(returnPriceElementTag))<400:\n",
    "        return returnPriceElementTag\n",
    "        \n",
    "    return None"
   ]
  },
  {
   "cell_type": "code",
   "execution_count": 88,
   "metadata": {},
   "outputs": [
    {
     "name": "stdout",
     "output_type": "stream",
     "text": [
      "Hi 39\n",
      "39\n",
      "elem:  $39.00\n",
      "elem.parent:  <span class=\"visuallyhidden\">$39.00</span>\n",
      "elem.parent.name:  span\n",
      "<span class=\"visuallyhidden\">$39.00</span>\n",
      "{\"class\": [\"visuallyhidden\"]}\n"
     ]
    }
   ],
   "source": [
    "returnPriceElementTag = findPriceElementTag(priceOfCurrentScreenshot, soup)"
   ]
  },
  {
   "cell_type": "code",
   "execution_count": 89,
   "metadata": {},
   "outputs": [
    {
     "name": "stdout",
     "output_type": "stream",
     "text": [
      "xpath_tag: span\n",
      "xpath_tag.attrs: {'class': ['visuallyhidden']}\n",
      "xpath_index: 1\n",
      "components: ['span']\n",
      "xpath_tag: span\n",
      "xpath_tag.attrs: {'class': ['price', 'display-inline-block', 'arrange-fit', 'price', 'price--stylized']}\n",
      "xpath_index: 1\n",
      "components: ['span', 'span']\n",
      "xpath_tag: span\n",
      "xpath_tag.attrs: {'class': ['hide-content', 'display-inline-block-m']}\n",
      "xpath_index: 1\n",
      "components: ['span', 'span', 'span']\n",
      "xpath_tag: div\n",
      "xpath_tag.attrs: {'class': ['prod-PriceHero']}\n",
      "xpath_index: 1\n",
      "components: ['span', 'span', 'span', 'div']\n",
      "true\n"
     ]
    },
    {
     "data": {
      "text/plain": [
       "\"/span[@id='price']/div/span/span/span\""
      ]
     },
     "execution_count": 89,
     "metadata": {},
     "output_type": "execute_result"
    }
   ],
   "source": [
    "getMyStackXPath(returnPriceElementTag)"
   ]
  },
  {
   "cell_type": "code",
   "execution_count": null,
   "metadata": {},
   "outputs": [],
   "source": []
  }
 ],
 "metadata": {
  "kernelspec": {
   "display_name": "Python 3",
   "language": "python",
   "name": "python3"
  },
  "language_info": {
   "codemirror_mode": {
    "name": "ipython",
    "version": 3
   },
   "file_extension": ".py",
   "mimetype": "text/x-python",
   "name": "python",
   "nbconvert_exporter": "python",
   "pygments_lexer": "ipython3",
   "version": "3.7.3"
  }
 },
 "nbformat": 4,
 "nbformat_minor": 2
}
