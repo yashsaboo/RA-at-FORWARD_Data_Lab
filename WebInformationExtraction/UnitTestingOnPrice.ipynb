{
 "cells": [
  {
   "cell_type": "markdown",
   "metadata": {},
   "source": [
    "## Libraries"
   ]
  },
  {
   "cell_type": "code",
   "execution_count": 1,
   "metadata": {},
   "outputs": [],
   "source": [
    "#Import All Dependencies\n",
    "# import cv2, os, bz2, json, csv, difflib, requests, socket, whois, urllib.request, urllib.parse, urllib.error, re, OpenSSL, ssl\n",
    "import numpy as np\n",
    "from datetime import datetime\n",
    "from urllib.parse import urlparse\n",
    "from urllib.request import Request, urlopen\n",
    "# from selenium import webdriver\n",
    "from matplotlib import pyplot as plt\n",
    "from bs4 import BeautifulSoup\n",
    "# from timeout import timeout\n",
    "import requests\n",
    "import numpy as np\n",
    "import urllib\n",
    "import cv2\n",
    "import re\n",
    "from selenium import webdriver\n",
    "from selenium.webdriver.common.desired_capabilities import DesiredCapabilities\n",
    "from selenium.webdriver.firefox.options import Options\n",
    "from PIL import Image\n",
    "from io import BytesIO\n",
    "import time\n",
    "import os\n",
    "import os.path\n",
    "from os import path\n",
    "import io\n",
    "from difflib import SequenceMatcher\n",
    "import json"
   ]
  },
  {
   "cell_type": "code",
   "execution_count": 2,
   "metadata": {},
   "outputs": [],
   "source": [
    "import contextlib \n",
    "  \n",
    "try: \n",
    "    from urllib.parse import urlencode           \n",
    "except ImportError: \n",
    "    from urllib import urlencode \n",
    "try: \n",
    "    from urllib.request import urlopen \n",
    "except ImportError: \n",
    "    from urllib2 import urlopen \n",
    "\n",
    "import sys "
   ]
  },
  {
   "cell_type": "markdown",
   "metadata": {},
   "source": [
    "### TinyURL"
   ]
  },
  {
   "cell_type": "code",
   "execution_count": 3,
   "metadata": {},
   "outputs": [],
   "source": [
    "from TinyURL import getTinyURL"
   ]
  },
  {
   "cell_type": "code",
   "execution_count": 4,
   "metadata": {},
   "outputs": [],
   "source": [
    "#Returns Beautiful Soup object\n",
    "def getHTML(URL):\n",
    "    try:\n",
    "        hdr = {'User-Agent': 'Mozilla/5.0 (Windows NT 10.0; Win64; x64) AppleWebKit/537.36 (KHTML, like Gecko) Chrome/74.0.3729.157 Safari/537.36'} #Make the user agent verified, that is Mozilla\n",
    "#         req = Request(URL,headers=hdr)\n",
    "        req = requests.get(URL, headers=hdr)\n",
    "        page = req.text #Get URL HTML contents\n",
    "        soup = BeautifulSoup(page, 'html.parser') #Convert to BeutifulSoup\n",
    "        print(\"Built Soup\")\n",
    "        #prettyText = str(soup.prettify()) #Convert the HTML in its form\n",
    "        return soup\n",
    "    except Exception as e:\n",
    "# #         if e.__class__.__name__ == \"TimeoutError\": raise TimeoutError(\"\")\n",
    "        return None"
   ]
  },
  {
   "cell_type": "markdown",
   "metadata": {},
   "source": [
    "### XPath"
   ]
  },
  {
   "cell_type": "code",
   "execution_count": 5,
   "metadata": {},
   "outputs": [],
   "source": [
    "from UnitTestingOnXPath import getMyStackXPath, getMyXPath, getStackXPath"
   ]
  },
  {
   "cell_type": "code",
   "execution_count": 6,
   "metadata": {},
   "outputs": [],
   "source": [
    "def getListOfXPath(listOfElements):\n",
    "    listOfXPath = []\n",
    "    for element in listOfElements:\n",
    "        listOfXPath.append(getMyXPath(element))\n",
    "    return listOfXPath"
   ]
  },
  {
   "cell_type": "markdown",
   "metadata": {},
   "source": [
    "### Selenium"
   ]
  },
  {
   "cell_type": "code",
   "execution_count": 7,
   "metadata": {},
   "outputs": [],
   "source": [
    "fireFoxBinaryPath = r'C:\\Program Files (x86)\\Mozilla Firefox\\firefox.exe'\n",
    "geckoDriverPath = \"C:/Users/Yash/Documents/geckodriver.exe\"\n",
    "\n",
    "googleChomreDriverPath = r\"C:\\Users\\Yash\\Documents\\chromedriver.exe\"\n",
    "\n",
    "windowSizeXAxis = 1024\n",
    "windowSizeYAxis = 768\n",
    "headlessOrNot = True"
   ]
  },
  {
   "cell_type": "code",
   "execution_count": 8,
   "metadata": {},
   "outputs": [],
   "source": [
    "from SeleniumScript import getSeleniumDriverForChrome, takeScreenshotWithChrome"
   ]
  },
  {
   "cell_type": "markdown",
   "metadata": {},
   "source": [
    "### Similarity"
   ]
  },
  {
   "cell_type": "code",
   "execution_count": 9,
   "metadata": {},
   "outputs": [],
   "source": [
    "highlySimilarValue = 0.40 #Denotes high chances. If occured, remove the less elements\n",
    "moderatelySimilarValue = 0.15 #Denotes moderate chances. If occured, remove the less elements\n",
    "bareMinimumSimilarValue = 0.05 #Denotes elements which have barely any similarity, so discard the elements below them"
   ]
  },
  {
   "cell_type": "code",
   "execution_count": 10,
   "metadata": {},
   "outputs": [],
   "source": [
    "def similar(a, b):\n",
    "    a = a.strip()\n",
    "    b = b.strip()\n",
    "    return SequenceMatcher(None, a, b).ratio()"
   ]
  },
  {
   "cell_type": "markdown",
   "metadata": {},
   "source": [
    "### Element Extractor"
   ]
  },
  {
   "cell_type": "markdown",
   "metadata": {},
   "source": [
    "1. Try different varaitions of price text.\n",
    "2. Check if the size of the element is more than 1x1 //Walmart Page cause problem using hidden element\n",
    "3. "
   ]
  },
  {
   "cell_type": "code",
   "execution_count": 11,
   "metadata": {},
   "outputs": [],
   "source": [
    "#Returns the elements for sepcified regex which will match the tag content/string\n",
    "def getTheElementListForSpecificRegexContent(regexContent, soup):\n",
    "    returnList= []\n",
    "    try:\n",
    "#         print(\"getTheElementListForSpecificRegexContent() soup(text=re.compile(regexContent)):\",soup(text=re.compile(regexContent)))\n",
    "        for counter in soup(text=re.compile(regexContent)):\n",
    "#             print(\"getTheElementListForSpecificRegexContent() counter.parent:\",counter.parent)\n",
    "            returnList.append(counter.parent)\n",
    "        return returnList\n",
    "    except Exception as e:\n",
    "        print(e)\n",
    "        return returnList\n",
    "\n",
    "#Find scores for set of element\n",
    "def defineScoreForElementList(elementList, comparatorValue, highProbailityTags, elementType):\n",
    "    scoreList = []\n",
    "    for element in elementList:\n",
    "        similarityCounterValue = similar(comparatorValue, element.string) #Find similarity\n",
    "        \n",
    "        #Add weighted factor if the tag is found\n",
    "        for tag in highProbailityTags:\n",
    "            if tag in element.name:\n",
    "                similarityCounterValue = similarityCounterValue + weightFactorForTheTag\n",
    "                \n",
    "        #Add weighted factor if the elementType is found\n",
    "        if elementType in json.dumps(element.attrs):\n",
    "            similarityCounterValue = similarityCounterValue + weightFactorForTheTag\n",
    "            \n",
    "        scoreList.append(similarityCounterValue)\n",
    "        \n",
    "    print(\"defineScoreForElementList() len(scoreList):\", len(scoreList))\n",
    "    print(\"defineScoreForElementList() len(elementList):\", len(elementList))\n",
    "    return scoreList\n",
    "\n",
    "\"\"\"\n",
    "    Find top elements which maps to the comparator: \n",
    "        typeOfComparators is set of values which a element's string/content should contain\n",
    "        highProbailityTags are tags which will likely have those typeOfComparators values so give them more weight\n",
    "        elementType is useful because the attribute of the tag usually contain such value\n",
    "\"\"\"\n",
    "def brainOfElementExtractor(typeOfComparators, soup, highProbailityTags, elementType):\n",
    "    \n",
    "    elementList = []   \n",
    "    \n",
    "    for comparatorValue in typeOfComparators:\n",
    "        print(\"brainOfElementExtractor() comparatorValue\",comparatorValue)\n",
    "        elementList = elementList + getTheElementListForSpecificRegexContent(comparatorValue, soup)\n",
    "        print(\"brainOfElementExtractor() len(elementList):\", len(elementList))\n",
    "    \n",
    "#     print(elementList) #For Debugging\n",
    "#     print(defineScoreForElementList(elementList, comparatorValue, highProbailityTags, elementType)) #For Debugging\n",
    "    \n",
    "    #Remove Duplicate Elements from list\n",
    "    elementListCurated = []\n",
    "    for i in elementList: \n",
    "        if i not in elementListCurated: \n",
    "            elementListCurated.append(i)\n",
    "    \n",
    "    scoreList = defineScoreForElementList(elementListCurated, comparatorValue, highProbailityTags, elementType)\n",
    "    print(\"brainOfElementExtractor() len(scoreList):\", len(scoreList))\n",
    "    \n",
    "    #Check if list is empty\n",
    "    if len(scoreList) == 0:\n",
    "        return None\n",
    "    \n",
    "    returnListOfElements = []\n",
    "    returnListOfScores = []\n",
    "    if max(scoreList)>highlySimilarValue: #Check if even one value has 'High' similarity score. If yes, then only send those elements\n",
    "        for i in range(0, len(scoreList)):\n",
    "            if scoreList[i]>highlySimilarValue:\n",
    "                returnListOfElements.append(elementListCurated[i])\n",
    "                returnListOfScores.append(scoreList[i])\n",
    "                \n",
    "    elif max(scoreList)>moderatleySimilarValue: #Check if it passes 'Moderately'\n",
    "        for i in range(0, len(scoreList)):\n",
    "            if scoreList[i]>moderatelySimilarValue:\n",
    "                returnListOfElements.append(elementListCurated[i])\n",
    "                returnListOfScores.append(scoreList[i])\n",
    "    else:\n",
    "        for i in range(0, len(scoreList)): #Check if it passes bare minimum\n",
    "            if scoreList[i]>bareMinimumSimilarValue:\n",
    "                returnListOfElements.append(elementListCurated[i])\n",
    "                returnListOfScores.append(scoreList[i])\n",
    "    \n",
    "    return returnListOfElements, returnListOfScores"
   ]
  },
  {
   "cell_type": "code",
   "execution_count": 29,
   "metadata": {},
   "outputs": [],
   "source": [
    "def getLocationForElements(driver, elementList, scoreList, XPathForElements):\n",
    "    updatedElementsList = [] \n",
    "    updatedScoresList = []\n",
    "    updatedXPathForElements = []\n",
    "    locationOfElement = []\n",
    "    sizeOfElement = []\n",
    "    for i in range(0,len(XPathForElements)):\n",
    "        try:\n",
    "            driverElement = driver.find_element_by_xpath(XPathForElements[i])\n",
    "            updatedElementsList.append(elementList[i])\n",
    "            updatedScoresList.append(scoreList[i])\n",
    "            updatedXPathForElements.append(XPathForElements[i])\n",
    "            locationOfElement.append(driverElement.location)\n",
    "            sizeOfElement.append(driverElement.size)\n",
    "        except Exception as e:\n",
    "            print(e)\n",
    "            continue\n",
    "    return updatedElementsList, updatedScoresList, updatedXPathForElements, locationOfElement, sizeOfElement"
   ]
  },
  {
   "cell_type": "markdown",
   "metadata": {},
   "source": [
    "##### Price"
   ]
  },
  {
   "cell_type": "code",
   "execution_count": 13,
   "metadata": {},
   "outputs": [],
   "source": [
    "# Price is supposed to be defined in the following tags, so give higher weight\n",
    "priceHighProbailityTags = [\"h\", \"span\"]\n",
    "weightFactorForTheTag = 0.3"
   ]
  },
  {
   "cell_type": "code",
   "execution_count": 14,
   "metadata": {},
   "outputs": [],
   "source": [
    "#Try different varaitions of Price Text\n",
    "#Order: \\$379.00, 379.00, \\$379, 379\n",
    "def findPriceElementTagList(gShopPrice, soup): #gShopPrice = $379.00\n",
    "    \n",
    "    typeOfPrices = []\n",
    "    \n",
    "    gShopPrice = gShopPrice.replace(\"now\",\"\").strip() #GShop sometimes gives prices with now suffix like \"$0.00 now\"\n",
    "    \n",
    "    if \"$\" in gShopPrice:\n",
    "        typeOfPrices.append(gShopPrice.replace(\"$\", \"\\$\"))  #gShopPriceUpdated = \\$379.00; Required because $ is reserved keyword for regex\n",
    "        \n",
    "    typeOfPrices.append(gShopPrice.replace(\"$\",\"\")) #gShopPriceUpdated = 379.00\n",
    "    \n",
    "    typeOfPrices.append(gShopPrice.replace(\"$\", \"\\$\").split(\".\")[0]) #gShopPriceUpdated = \\$379\n",
    "        \n",
    "    typeOfPrices.append(gShopPrice.replace(\"$\",\"\").split(\".\")[0]) #gShopPriceUpdated = 379\n",
    "    \n",
    "    return typeOfPrices"
   ]
  },
  {
   "cell_type": "markdown",
   "metadata": {},
   "source": [
    "##### Heading"
   ]
  },
  {
   "cell_type": "code",
   "execution_count": 15,
   "metadata": {},
   "outputs": [],
   "source": [
    "# Heading is supposed to be defined in the following tags, so give higher weight\n",
    "headingHighProbailityTags = [\"h\", \"span\"]\n",
    "weightFactorForTheTag = 0.3\n",
    "minimumNumberOfSpaces = 2"
   ]
  },
  {
   "cell_type": "code",
   "execution_count": 16,
   "metadata": {},
   "outputs": [],
   "source": [
    "from itertools import combinations\n",
    "\n",
    "#Try different varaitions of Heading Text\n",
    "def findHeadingElementTagList(gShopHeading, soup):\n",
    "    \n",
    "    typeOfHeadings = []\n",
    "    \n",
    "    gShopHeading = gShopHeading.strip()\n",
    "    noOfSpaces = gShopHeading.count(' ')\n",
    "    print(noOfSpaces)\n",
    "    listOfWordsInShopHeading = gShopHeading.split(\" \")\n",
    "    if noOfSpaces>minimumNumberOfSpaces:\n",
    "        for i in range(3,noOfSpaces+1):\n",
    "            for j in list(combinations(listOfWordsInShopHeading, i)):\n",
    "                counterString = \"\"\n",
    "                for k in j:\n",
    "                    counterString = counterString + k + \" \"\n",
    "                typeOfHeadings.append(counterString.strip())\n",
    "                \n",
    "    typeOfHeadings.append(gShopHeading)\n",
    "    return typeOfHeadings"
   ]
  },
  {
   "cell_type": "markdown",
   "metadata": {},
   "source": [
    "### Testing"
   ]
  },
  {
   "cell_type": "code",
   "execution_count": 17,
   "metadata": {},
   "outputs": [],
   "source": [
    "URL = \"https://www.walmart.com/ip/Farberware-3-2-Quart-Digital-Oil-Less-Fryer-White/264698854?athcpid=264698854&athpgid=athenaHomepage&athcgid=null&athznid=BestInDeals&athieid=v1&athstid=CS020&athguid=466001f5-46cfa622-5eb821569a18a716&athancid=null&athena=true\""
   ]
  },
  {
   "cell_type": "code",
   "execution_count": 18,
   "metadata": {},
   "outputs": [
    {
     "name": "stdout",
     "output_type": "stream",
     "text": [
      "Built Soup\n"
     ]
    }
   ],
   "source": [
    "soup = getHTML(URL)"
   ]
  },
  {
   "cell_type": "markdown",
   "metadata": {},
   "source": [
    "##### Price"
   ]
  },
  {
   "cell_type": "code",
   "execution_count": 19,
   "metadata": {},
   "outputs": [],
   "source": [
    "gShopPrice = \"$39.00\""
   ]
  },
  {
   "cell_type": "code",
   "execution_count": 51,
   "metadata": {
    "scrolled": false
   },
   "outputs": [
    {
     "name": "stdout",
     "output_type": "stream",
     "text": [
      "['\\\\$39.00', '39.00', '\\\\$39', '39']\n",
      "brainOfElementExtractor() comparatorValue \\$39.00\n",
      "brainOfElementExtractor() len(elementList): 2\n",
      "brainOfElementExtractor() comparatorValue 39.00\n",
      "brainOfElementExtractor() len(elementList): 4\n",
      "brainOfElementExtractor() comparatorValue \\$39\n",
      "brainOfElementExtractor() len(elementList): 6\n",
      "brainOfElementExtractor() comparatorValue 39\n",
      "brainOfElementExtractor() len(elementList): 14\n",
      "defineScoreForElementList() len(scoreList): 7\n",
      "defineScoreForElementList() len(elementList): 7\n",
      "brainOfElementExtractor() len(scoreList): 7\n",
      "[<span class=\"visuallyhidden\">$39.00</span>, <span class=\"price-characteristic\" content=\"39.00\" itemprop=\"price\">39</span>, <span class=\"price-characteristic\">39</span>]\n",
      "[0.8, 1.6, 1.6]\n",
      "{'class': ['price', 'display-inline-block', 'arrange-fit', 'price', 'price--stylized']}\n",
      "{'class': ['hide-content', 'display-inline-block-m']}\n",
      "{'class': ['prod-PriceHero']}\n",
      "{'class': ['display-inline-block-xs', 'prod-PaddingRight--xs', 'valign-top'], 'id': 'price'}\n",
      "true\n",
      "{'class': ['price-group'], 'aria-hidden': 'true'}\n",
      "{'class': ['price', 'display-inline-block', 'arrange-fit', 'price', 'price--stylized']}\n",
      "{'class': ['hide-content', 'display-inline-block-m']}\n",
      "{'class': ['prod-PriceHero']}\n",
      "{'class': ['display-inline-block-xs', 'prod-PaddingRight--xs', 'valign-top'], 'id': 'price'}\n",
      "true\n",
      "{'class': ['price-group'], 'aria-hidden': 'true'}\n",
      "{'class': ['price', 'display-inline-block', 'arrange-fit', 'price']}\n",
      "{'class': ['hide-content-m']}\n",
      "{'class': ['prod-PriceHero']}\n",
      "{'class': ['display-inline-block-xs', 'prod-PaddingRight--xs', 'valign-top'], 'id': 'price'}\n",
      "true\n"
     ]
    }
   ],
   "source": [
    "typeOfPrices = findPriceElementTagList(gShopPrice, soup)\n",
    "print(typeOfPrices)\n",
    "priceElements, priceScores = brainOfElementExtractor(typeOfPrices, soup, priceHighProbailityTags, \"price\")\n",
    "print(priceElements)\n",
    "print(priceScores)\n",
    "XPathForPriceElements = getListOfXPath(priceElements)"
   ]
  },
  {
   "cell_type": "code",
   "execution_count": 21,
   "metadata": {},
   "outputs": [
    {
     "data": {
      "text/plain": [
       "[\"//span[@id='price']/div/span/span/span\",\n",
       " \"//span[@id='price']/div/span/span/span/span\",\n",
       " \"//span[@id='price']/div/span/span/span/span\"]"
      ]
     },
     "execution_count": 21,
     "metadata": {},
     "output_type": "execute_result"
    }
   ],
   "source": [
    "XPathForPriceElements"
   ]
  },
  {
   "cell_type": "code",
   "execution_count": 52,
   "metadata": {},
   "outputs": [
    {
     "name": "stdout",
     "output_type": "stream",
     "text": [
      "[<span class=\"visuallyhidden\">$39.00</span>, <span class=\"price-characteristic\" content=\"39.00\" itemprop=\"price\">39</span>, <span class=\"price-characteristic\">39</span>]\n",
      "[0.8, 1.6, 1.6]\n"
     ]
    }
   ],
   "source": [
    "print(priceElements)\n",
    "print(priceScores)"
   ]
  },
  {
   "cell_type": "code",
   "execution_count": null,
   "metadata": {},
   "outputs": [],
   "source": [
    "<span class=\"price-characteristic\">39</span>\n",
    "1. To find similarity: 1\n",
    "2. Find if the tag is heading or span: 0.3\n",
    "3. Find if the tag's attributes have \"price\": 0.3"
   ]
  },
  {
   "cell_type": "markdown",
   "metadata": {},
   "source": [
    "##### Heading"
   ]
  },
  {
   "cell_type": "code",
   "execution_count": 37,
   "metadata": {},
   "outputs": [],
   "source": [
    "gShopHeading = \"Product Highlights\""
   ]
  },
  {
   "cell_type": "code",
   "execution_count": 38,
   "metadata": {},
   "outputs": [],
   "source": [
    "# gShopHeading = gShopHeading.translate ({ord(c): \" \" for c in \"!@#$%^&*()[]{};:,./<>?\\|`~-=_+\"})\n",
    "# gShopHeading.split(\" \")"
   ]
  },
  {
   "cell_type": "code",
   "execution_count": 39,
   "metadata": {
    "scrolled": false
   },
   "outputs": [
    {
     "name": "stdout",
     "output_type": "stream",
     "text": [
      "1\n",
      "brainOfElementExtractor() comparatorValue Product Highlights\n",
      "brainOfElementExtractor() len(elementList): 1\n",
      "defineScoreForElementList() len(scoreList): 1\n",
      "defineScoreForElementList() len(elementList): 1\n",
      "brainOfElementExtractor() len(scoreList): 1\n",
      "{'class': ['prod-ProductHighlights-content'], 'data-tl-id': 'ProductPage-ProductHighlights'}\n",
      "{'id': 'product-highlights', 'tabindex': '0', 'class': ['prod-ProductHighlights', 'prod-ProductHighlightsSection', 'xxs-padding-sides']}\n",
      "true\n"
     ]
    }
   ],
   "source": [
    "typeOfHeadings = findHeadingElementTagList(gShopHeading, soup)\n",
    "headingElements, headingScores = brainOfElementExtractor(typeOfHeadings, soup, headingHighProbailityTags, \"heading\")\n",
    "XPathForHeadingElements = getListOfXPath(headingElements)"
   ]
  },
  {
   "cell_type": "code",
   "execution_count": 40,
   "metadata": {},
   "outputs": [
    {
     "data": {
      "text/plain": [
       "[\"//div[@id='product-highlights']/div/h3\"]"
      ]
     },
     "execution_count": 40,
     "metadata": {},
     "output_type": "execute_result"
    }
   ],
   "source": [
    "XPathForHeadingElements"
   ]
  },
  {
   "cell_type": "code",
   "execution_count": 32,
   "metadata": {},
   "outputs": [],
   "source": [
    "# /html/body/div[1]/div/div/div[2]/div/div[1]/div/div[1]/div/div/div/div/div[3]/div[5]/div/div[3]/div/h1"
   ]
  },
  {
   "cell_type": "markdown",
   "metadata": {},
   "source": [
    "##### Locality"
   ]
  },
  {
   "cell_type": "code",
   "execution_count": 27,
   "metadata": {},
   "outputs": [],
   "source": [
    "#Get Selenium Object for that XPath\n",
    "driver2 = getSeleniumDriverForChrome(googleChomreDriverPath, False)\n",
    "driver2.get(URL)\n",
    "# driver2.implicitly_wait(10)\n",
    "driver2.maximize_window()"
   ]
  },
  {
   "cell_type": "code",
   "execution_count": 35,
   "metadata": {},
   "outputs": [],
   "source": [
    "updatedPriceElements, updatedPriceScores, updatedXPathForPriceElements, locationOfPriceElement, sizeOfPriceElement = getLocationForElements(driver2, priceElements, priceScores, XPathForPriceElements)"
   ]
  },
  {
   "cell_type": "code",
   "execution_count": 41,
   "metadata": {},
   "outputs": [],
   "source": [
    "updatedHeadingElements, updatedHeadingScores, updatedXPathForHeadingElements, locationOfHeadingElement, sizeOfHeadingElement = getLocationForElements(driver2, headingElements, headingScores, XPathForHeadingElements)"
   ]
  },
  {
   "cell_type": "code",
   "execution_count": 43,
   "metadata": {},
   "outputs": [
    {
     "data": {
      "text/plain": [
       "[{'x': 759, 'y': 354}, {'x': 760, 'y': 356}, {'x': 760, 'y': 356}]"
      ]
     },
     "execution_count": 43,
     "metadata": {},
     "output_type": "execute_result"
    }
   ],
   "source": [
    "locationOfPriceElement"
   ]
  },
  {
   "cell_type": "code",
   "execution_count": 54,
   "metadata": {},
   "outputs": [
    {
     "data": {
      "text/plain": [
       "[{'height': 1, 'width': 1},\n",
       " {'height': 34, 'width': 12},\n",
       " {'height': 34, 'width': 12}]"
      ]
     },
     "execution_count": 54,
     "metadata": {},
     "output_type": "execute_result"
    }
   ],
   "source": [
    "sizeOfPriceElement"
   ]
  },
  {
   "cell_type": "code",
   "execution_count": 44,
   "metadata": {},
   "outputs": [
    {
     "data": {
      "text/plain": [
       "[{'x': 760, 'y': 824}]"
      ]
     },
     "execution_count": 44,
     "metadata": {},
     "output_type": "execute_result"
    }
   ],
   "source": [
    "locationOfHeadingElement"
   ]
  },
  {
   "cell_type": "code",
   "execution_count": 46,
   "metadata": {},
   "outputs": [],
   "source": [
    "import math  \n",
    "def calculateDistance(x1,y1,x2,y2):  \n",
    "    dist = math.sqrt((x2 - x1)**2 + (y2 - y1)**2)  \n",
    "    return dist "
   ]
  },
  {
   "cell_type": "code",
   "execution_count": 47,
   "metadata": {},
   "outputs": [
    {
     "name": "stdout",
     "output_type": "stream",
     "text": [
      "470.00106382858326\n",
      "468.0\n",
      "468.0\n"
     ]
    }
   ],
   "source": [
    "for price in locationOfPriceElement:\n",
    "    for heading in locationOfHeadingElement:\n",
    "        print(calculateDistance(price['x'],price['y'],heading['x'],heading['y']))"
   ]
  },
  {
   "cell_type": "code",
   "execution_count": 48,
   "metadata": {},
   "outputs": [
    {
     "data": {
      "text/plain": [
       "[<span class=\"visuallyhidden\">$39.00</span>,\n",
       " <span class=\"price-characteristic\" content=\"39.00\" itemprop=\"price\">39</span>,\n",
       " <span class=\"price-characteristic\">39</span>]"
      ]
     },
     "execution_count": 48,
     "metadata": {},
     "output_type": "execute_result"
    }
   ],
   "source": [
    "updatedPriceElements"
   ]
  },
  {
   "cell_type": "code",
   "execution_count": 49,
   "metadata": {},
   "outputs": [
    {
     "data": {
      "text/plain": [
       "[<h3 class=\"prod-ProductHighlights-header font-normal\">Product Highlights</h3>]"
      ]
     },
     "execution_count": 49,
     "metadata": {},
     "output_type": "execute_result"
    }
   ],
   "source": [
    "updatedHeadingElements"
   ]
  },
  {
   "cell_type": "code",
   "execution_count": 33,
   "metadata": {},
   "outputs": [
    {
     "name": "stdout",
     "output_type": "stream",
     "text": [
      "name 'locationOfElement' is not defined\n",
      "name 'locationOfElement' is not defined\n",
      "name 'locationOfElement' is not defined\n"
     ]
    }
   ],
   "source": [
    "# updatedPriceElements = [] \n",
    "# updatedPriceScores = []\n",
    "# updatedXPathForPriceElements = []\n",
    "# locationOfPriceElement = []\n",
    "# sizeOfElement = []\n",
    "# for i in range(0,len(XPathForPriceElements)):\n",
    "#     try:\n",
    "#         driverElement = driver2.find_element_by_xpath(XPathForPriceElements[i])\n",
    "#         updatedPriceElements.append(priceElements[i])\n",
    "#         updatedPriceScores.append(priceScores[i])\n",
    "#         updatedXPathForPriceElements.append(XPathForPriceElements[i])\n",
    "#         locationOfElement.append(driverElement.location)\n",
    "#         sizeOfElement.append(driverElement.size)\n",
    "#     except Exception as e:\n",
    "#         print(e)\n",
    "#         continue"
   ]
  },
  {
   "cell_type": "code",
   "execution_count": 36,
   "metadata": {},
   "outputs": [
    {
     "data": {
      "text/plain": [
       "[{'height': 1, 'width': 1},\n",
       " {'height': 34, 'width': 12},\n",
       " {'height': 34, 'width': 12}]"
      ]
     },
     "execution_count": 36,
     "metadata": {},
     "output_type": "execute_result"
    }
   ],
   "source": [
    "sizeOfPriceElement"
   ]
  },
  {
   "cell_type": "code",
   "execution_count": null,
   "metadata": {},
   "outputs": [],
   "source": [
    "for "
   ]
  },
  {
   "cell_type": "code",
   "execution_count": 113,
   "metadata": {},
   "outputs": [
    {
     "name": "stdout",
     "output_type": "stream",
     "text": [
      "{'class': ['price-group'], 'aria-hidden': 'true'}\n",
      "{'class': ['price', 'display-inline-block', 'arrange-fit', 'price']}\n",
      "{'class': ['hide-content-m']}\n",
      "{'class': ['prod-PriceHero']}\n",
      "{'class': ['display-inline-block-xs', 'prod-PaddingRight--xs', 'valign-top'], 'id': 'price'}\n",
      "true\n",
      "<selenium.webdriver.remote.webelement.WebElement (session=\"669be2320d619fdec5362434401d8422\", element=\"12e6d7b8-2bcd-4f2e-9ec8-13ca49df92e5\")>\n",
      "driverElement.location_once_scrolled_into_view : {'x': 760, 'y': 1}\n",
      "driverElement.location : {'x': 760, 'y': 354}\n",
      "driverElement.size : {'height': 38, 'width': 16}\n"
     ]
    }
   ],
   "source": [
    "driverElement = driver2.find_element_by_xpath(getMyXPath(priceElements[2])) #Find XPath\n",
    "print(driverElement)\n",
    "print(\"driverElement.location_once_scrolled_into_view :\",driverElement.location_once_scrolled_into_view )\n",
    "print(\"driverElement.location :\",driverElement.location)\n",
    "print(\"driverElement.size :\",driverElement.size)"
   ]
  },
  {
   "cell_type": "code",
   "execution_count": 114,
   "metadata": {},
   "outputs": [],
   "source": [
    "driver2.execute_script(\"arguments[0].setAttribute('style', 'border: 2px solid #73AD21')\", driverElement);"
   ]
  },
  {
   "cell_type": "code",
   "execution_count": 42,
   "metadata": {},
   "outputs": [],
   "source": [
    "driver2.quit()"
   ]
  },
  {
   "cell_type": "code",
   "execution_count": null,
   "metadata": {},
   "outputs": [],
   "source": []
  },
  {
   "cell_type": "code",
   "execution_count": null,
   "metadata": {},
   "outputs": [],
   "source": []
  },
  {
   "cell_type": "code",
   "execution_count": null,
   "metadata": {},
   "outputs": [],
   "source": []
  },
  {
   "cell_type": "code",
   "execution_count": 74,
   "metadata": {},
   "outputs": [],
   "source": [
    "def getTheTagElementListForPrice(gShopPriceUpdated, soup):\n",
    "    \n",
    "    returnPriceElementTag = None\n",
    "    \n",
    "    try:\n",
    "        dummyVar = soup(text=re.compile(gShopPriceUpdated))\n",
    "#         print(dummyVar)\n",
    "        for elem in dummyVar:\n",
    "            \n",
    "            #find similarity\n",
    "#             if similar(gShopPrice, headingTag.string)\n",
    "\n",
    "#             print(\"elem: \",elem)\n",
    "#             print(\"elem.parent: \",elem.parent)\n",
    "#             print(\"elem.parent.name: \",elem.parent.name)\n",
    "            if returnPriceElementTag == None: #The first element is the return value unless we encounter a heading tag\n",
    "                returnPriceElementTag = elem.parent\n",
    "            if \"h\" in elem.parent.name: #Found the heading tag, so return this tag and break the loop\n",
    "                returnPriceElementTag = elem.parent\n",
    "                return returnPriceElementTag\n",
    "            if \"span\" in elem.parent.name: #Found the span tag, so return this tag and break the loop\n",
    "                print(\"elem: \",elem)\n",
    "                print(\"elem.parent: \",elem.parent)\n",
    "                print(\"elem.parent.name: \",elem.parent.name)\n",
    "                print(str(elem.parent))\n",
    "                print(\"\" + json.dumps(elem.parent.attrs))\n",
    "                returnPriceElementTag = elem.parent\n",
    "                return returnPriceElementTag\n",
    "    except Exception as e:\n",
    "        print(\"Error in getTheTagElementForPrice(gShopPriceUpdated, soup)\")\n",
    "    return returnPriceElementTag\n",
    "\n",
    "#Try different varaitions of Price Text\n",
    "#Order: \\$379.00, 379.00, \\$379, 379\n",
    "def findPriceElementTag(gShopPrice, soup): #gShopPrice = $379.00\n",
    "    \n",
    "    gShopPrice = gShopPrice.replace(\"now\",\"\").strip() #GShop soemtimes gives prices with now suffix like \"$0.00 now\"\n",
    "    print(\"Hi\",gShopPrice)\n",
    "    \n",
    "    if \"$\" in gShopPrice:\n",
    "        gShopPriceUpdated = gShopPrice.replace(\"$\", \"\\$\") #gShopPriceUpdated = \\$379.00; Required because $ is reserved keyword for regex\n",
    "        print(gShopPriceUpdated)\n",
    "        returnPriceElementTag = getTheTagElementListForPrice(gShopPriceUpdated, soup)\n",
    "        if returnPriceElementTag != None and len(str(returnPriceElementTag))<400:\n",
    "            return returnPriceElementTag\n",
    "    \n",
    "    gShopPriceUpdated = gShopPrice.replace(\"$\",\"\") #gShopPriceUpdated = 379.00\n",
    "    print(gShopPriceUpdated)\n",
    "    returnPriceElementTag = getTheTagElementListForPrice(gShopPriceUpdated, soup)\n",
    "    if returnPriceElementTag != None and len(str(returnPriceElementTag))<400:\n",
    "        return returnPriceElementTag\n",
    "        \n",
    "    gShopPriceUpdated = gShopPrice.replace(\"$\", \"\\$\").split(\".\")[0] #gShopPriceUpdated = \\$379\n",
    "    print(gShopPriceUpdated)\n",
    "    returnPriceElementTag = getTheTagElementListForPrice(gShopPriceUpdated, soup)\n",
    "    if returnPriceElementTag != None and len(str(returnPriceElementTag))<400:\n",
    "        return returnPriceElementTag\n",
    "        \n",
    "    gShopPriceUpdated = gShopPrice.replace(\"$\",\"\").split(\".\")[0] #gShopPriceUpdated = 379\n",
    "    print(gShopPriceUpdated)\n",
    "    returnPriceElementTag = getTheTagElementListForPrice(gShopPriceUpdated, soup)\n",
    "    if returnPriceElementTag != None and len(str(returnPriceElementTag))<400:\n",
    "        return returnPriceElementTag\n",
    "        \n",
    "    return None"
   ]
  },
  {
   "cell_type": "code",
   "execution_count": 88,
   "metadata": {},
   "outputs": [
    {
     "name": "stdout",
     "output_type": "stream",
     "text": [
      "Hi 39\n",
      "39\n",
      "elem:  $39.00\n",
      "elem.parent:  <span class=\"visuallyhidden\">$39.00</span>\n",
      "elem.parent.name:  span\n",
      "<span class=\"visuallyhidden\">$39.00</span>\n",
      "{\"class\": [\"visuallyhidden\"]}\n"
     ]
    }
   ],
   "source": [
    "returnPriceElementTag = findPriceElementTag(priceOfCurrentScreenshot, soup)"
   ]
  },
  {
   "cell_type": "code",
   "execution_count": 89,
   "metadata": {},
   "outputs": [
    {
     "name": "stdout",
     "output_type": "stream",
     "text": [
      "xpath_tag: span\n",
      "xpath_tag.attrs: {'class': ['visuallyhidden']}\n",
      "xpath_index: 1\n",
      "components: ['span']\n",
      "xpath_tag: span\n",
      "xpath_tag.attrs: {'class': ['price', 'display-inline-block', 'arrange-fit', 'price', 'price--stylized']}\n",
      "xpath_index: 1\n",
      "components: ['span', 'span']\n",
      "xpath_tag: span\n",
      "xpath_tag.attrs: {'class': ['hide-content', 'display-inline-block-m']}\n",
      "xpath_index: 1\n",
      "components: ['span', 'span', 'span']\n",
      "xpath_tag: div\n",
      "xpath_tag.attrs: {'class': ['prod-PriceHero']}\n",
      "xpath_index: 1\n",
      "components: ['span', 'span', 'span', 'div']\n",
      "true\n"
     ]
    },
    {
     "data": {
      "text/plain": [
       "\"/span[@id='price']/div/span/span/span\""
      ]
     },
     "execution_count": 89,
     "metadata": {},
     "output_type": "execute_result"
    }
   ],
   "source": [
    "getMyStackXPath(returnPriceElementTag)"
   ]
  },
  {
   "cell_type": "code",
   "execution_count": null,
   "metadata": {},
   "outputs": [],
   "source": []
  }
 ],
 "metadata": {
  "kernelspec": {
   "display_name": "Python 3",
   "language": "python",
   "name": "python3"
  },
  "language_info": {
   "codemirror_mode": {
    "name": "ipython",
    "version": 3
   },
   "file_extension": ".py",
   "mimetype": "text/x-python",
   "name": "python",
   "nbconvert_exporter": "python",
   "pygments_lexer": "ipython3",
   "version": "3.7.3"
  }
 },
 "nbformat": 4,
 "nbformat_minor": 2
}
